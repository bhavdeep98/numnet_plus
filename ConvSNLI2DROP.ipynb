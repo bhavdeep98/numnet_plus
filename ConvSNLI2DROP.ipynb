{
 "cells": [
  {
   "cell_type": "code",
   "execution_count": 41,
   "metadata": {},
   "outputs": [],
   "source": [
    "import pandas as pd\n",
    "import json"
   ]
  },
  {
   "cell_type": "code",
   "execution_count": 42,
   "metadata": {},
   "outputs": [],
   "source": [
    "snli_train_list = []\n",
    "with open(\"snli/snli_1.0/snli_1.0_train.jsonl\") as train_file:\n",
    "    snli_train_list = list(train_file)"
   ]
  },
  {
   "cell_type": "code",
   "execution_count": 43,
   "metadata": {},
   "outputs": [],
   "source": [
    "# snli_train_list"
   ]
  },
  {
   "cell_type": "code",
   "execution_count": 44,
   "metadata": {},
   "outputs": [],
   "source": [
    "snli_train_data = []\n",
    "for item in snli_train_list:\n",
    "    snli_train_data.append(json.loads(item))"
   ]
  },
  {
   "cell_type": "code",
   "execution_count": 45,
   "metadata": {},
   "outputs": [],
   "source": [
    "# snli_train_data"
   ]
  },
  {
   "cell_type": "code",
   "execution_count": 46,
   "metadata": {},
   "outputs": [],
   "source": [
    "data = pd.DataFrame()"
   ]
  },
  {
   "cell_type": "code",
   "execution_count": 47,
   "metadata": {},
   "outputs": [],
   "source": [
    "passages = {}\n",
    "qa_dict = {}\n",
    "\n",
    "for item in snli_train_data:\n",
    "    qa_pair = {}\n",
    "    answer = {}\n",
    "    key = item['captionID']\n",
    "    passages[key] = item['sentence1']\n",
    "#     temp_current['passage']  = item['sentence1']\n",
    "    qa_pair['question'] = item['sentence2'] + \" Is this entailment, contradiction or neutral?\"\n",
    "    answer['number'] = \"\"\n",
    "    answer['date'] = dict.fromkeys({'day','month','year'},\"\")\n",
    "    if item['gold_label'] in ['entailment','neutral','contradiction']:\n",
    "        answer['spans'] = [item['gold_label']]\n",
    "    else:\n",
    "        continue\n",
    "    qa_pair['answer'] = answer\n",
    "#     qa_pair['validated_answers'] = [answer,answer]\n",
    "    qa_pair['query_id'] = item['pairID']\n",
    "    if key in qa_dict.keys():\n",
    "        qa_dict[key].append(qa_pair)\n",
    "    else:\n",
    "        qa_dict[key]=[qa_pair]"
   ]
  },
  {
   "cell_type": "code",
   "execution_count": 48,
   "metadata": {},
   "outputs": [],
   "source": [
    "temp_dict = {}\n",
    "for key in passages.keys():\n",
    "    unified_dict = {}\n",
    "    unified_dict['passage'] = passages[key]\n",
    "    if len(qa_dict[key])!=0:\n",
    "        unified_dict['qa_pairs'] = qa_dict[key]\n",
    "    else:\n",
    "        print(qa_dict)\n",
    "        print(key)\n",
    "        print(passages[key])\n",
    "    unified_dict['wiki_url'] = \"\"\n",
    "    temp_dict[key] = unified_dict"
   ]
  },
  {
   "cell_type": "code",
   "execution_count": 49,
   "metadata": {},
   "outputs": [],
   "source": [
    "# temp_dict"
   ]
  },
  {
   "cell_type": "code",
   "execution_count": 50,
   "metadata": {},
   "outputs": [],
   "source": [
    "with open(\"drop_dataset/drop_dataset_train.json\",'w') as train_file:\n",
    "    json.dump(temp_dict,train_file)"
   ]
  },
  {
   "cell_type": "code",
   "execution_count": null,
   "metadata": {},
   "outputs": [],
   "source": []
  }
 ],
 "metadata": {
  "kernelspec": {
   "display_name": "Python 3",
   "language": "python",
   "name": "python3"
  },
  "language_info": {
   "codemirror_mode": {
    "name": "ipython",
    "version": 3
   },
   "file_extension": ".py",
   "mimetype": "text/x-python",
   "name": "python",
   "nbconvert_exporter": "python",
   "pygments_lexer": "ipython3",
   "version": "3.6.10"
  }
 },
 "nbformat": 4,
 "nbformat_minor": 4
}
